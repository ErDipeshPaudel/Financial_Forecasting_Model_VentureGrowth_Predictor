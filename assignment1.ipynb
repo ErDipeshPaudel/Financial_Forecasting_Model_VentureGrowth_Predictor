{
 "cells": [
  {
   "cell_type": "markdown",
   "id": "b1dbe997",
   "metadata": {},
   "source": [
    "# COMP2200/COMP6200 Assignment 1\n",
    "\n",
    "Due date: 11:55pm on Sunday April 6th 2025\n",
    "\n",
    "(Note that daylight savings ends earlier on that day. Remember to move your clock backward by an hour.)\n",
    "\n",
    "## Scenario\n",
    "\n",
    "You are working as a data scientist in a venture capital investment firm. You have been given some\n",
    "data about a potential company to invest in. You will create some models to predict what the \n",
    "potential company will be like in 12 months' time.\n",
    "\n",
    "\n",
    "## About this assignment\n",
    "\n",
    "This assessment focuses on fundamental statistical analysis, which\n",
    "will apply linear and logistic regression techniques on one or more\n",
    "data sets.\n",
    "\n",
    "The relevant ULO (Unit Learning Outcomes) are:\n",
    "\n",
    "- Identify the appropriate Data Science analysis for a problem and\n",
    "  apply that method to the problem.\n",
    "\n",
    "- Interpret Data Science analyses and summarise and identify the most\n",
    "  important aspects of a Data Science analysis.\n",
    "\n",
    "- Present the results of their Data Science analyses both verbally and\n",
    "  in written form.\n",
    "  \n",
    "Total: 15 marks\n",
    "  \n",
    "\n",
    "## Submission\n",
    "\n",
    "Use https://classroom.github.com/a/BdRkY5OH to create a new empty\n",
    "repository.\n",
    "\n",
    "Complete this notebook and add it to a new GitHub repository.\n",
    "\n",
    "Submit this repository via Github Classroom.\n",
    "\n",
    "Add the video that you create (in the last step) to your GitHub repository.\n",
    "\n",
    "You don't need to submit your CSV data file, but we won't penalise you\n",
    "if you do.\n",
    "\n",
    "## Use of Generative AI\n",
    "\n",
    "Feel free to use Gen-AI tools (ChatGPT, Anthropic Claude, DeepSeek,\n",
    "Llama, etc.) to assist you in writing the code. That's what everyone\n",
    "in industry does nowadays. There are some suggested prompts at the bottom\n",
    "of this notebook.\n",
    "\n",
    "Remember that you may be called on to explain what your code does and\n",
    "how it works, so if you have some code generated for you that you\n",
    "don't fully understand, spend some time with your Gen-AI tool asking\n",
    "for clarification until you are confident. Having a personal tutor\n",
    "guide you is one of the newest and fastest ways to learn to program in\n",
    "Python, so make the most of the opportunity. \n",
    "\n",
    "To help you remember what your code does, you can add comments to your\n",
    "code either by creating another markdown cell, or by using \"#\" at the\n",
    "beginning of a line in a code cell.\n",
    "\n",
    "Don't use Gen-AI tools for writing reflections and observations. You\n",
    "will find many cells in this notebook where you need to enter markdown text.\n",
    "They appear like this:\n",
    "\n",
    "**Your answer here. Replace the text in this markdown cell. Remember not to use Gen-AI here.**\n",
    "\n",
    "You don't want to use Gen-AI in these cells for two reasons:\n",
    "\n",
    "- Thinking and reflecting is how you will get most of the benefit of doing this assignment.\n",
    "\n",
    "- It will produce meaningless and bland statements (that will be obviously meaningless and bland)\n",
    "  and you will get bad marks.\n",
    "  \n",
    "\n",
    "## Marking Criteria\n",
    "\n",
    "For a code cell, any working correct answer will earn full marks. For\n",
    "non-working code, or code that performs a different task, if it seems\n",
    "like you were on the right track, the marker may issue partial marks.\n",
    "\n",
    "For code cells that create visualisations, a correct answer is one that\n",
    "creates a meaningful and useful visualisation of the data.\n",
    "\n",
    "For a text (markdown) cell, word counts are only a guide: this is how\n",
    "many words we think it will take to give a good answer. If you need to\n",
    "use more words, or can express your answer in less words, go ahead: a\n",
    "good answer will still receive full marks.\n",
    "\n",
    "Answers given as dot points in a markdown cell are acceptable;\n",
    "likewise full sentences in paragraphs are acceptable.\n",
    "\n",
    "## Resources\n",
    "\n",
    "The textbook for the unit (_Introduction to Data Science_ by Igual and\n",
    "Segui) has some linear regression examples as well. You might find\n",
    "Section 6.2.3 useful if you are looking for sample code that performs\n",
    "linear regression. Section 6.3.1 has an example of logistic\n",
    "regression.\n",
    "\n",
    "\n",
    "## Data\n",
    "\n",
    "You will find a large zip file called `2025-S1-COMP2200-6200-assignment1.zip` on iLearn.  When you expand it\n",
    "out, you will see many files, including one that begins with your\n",
    "student number. e.g `1235345 Brown-Miller Group.csv`\n",
    "\n",
    "Copy it into the same directory as you copied this Jupyter notebook.\n",
    "\n",
    "### Create a GitHub repo within Github Classroom (0.1 marks)\n",
    "\n",
    "- Yes, we'll give you 0.1 marks just for getting this far.\n",
    "\n",
    "### Import any libraries you need (0.1 marks)\n",
    "\n"
   ]
  },
  {
   "cell_type": "code",
   "execution_count": null,
   "id": "2880dd9b",
   "metadata": {},
   "outputs": [],
   "source": []
  },
  {
   "cell_type": "markdown",
   "id": "c0554759",
   "metadata": {},
   "source": [
    "\n",
    "\n",
    "If you are doing something exotic --- e.g you are using libraries\n",
    "other than pandas and scikit-learn --- and you want the marker to\n",
    "install an extra package or use a particular version of Python, tell\n",
    "us about it here. Most students will leave this blank.\n",
    "\n"
   ]
  },
  {
   "cell_type": "markdown",
   "id": "891ec97d",
   "metadata": {},
   "source": [
    "*Your answer here. Replace the text in this markdown cell. Remember not to use Gen-AI here.* ________________________________"
   ]
  },
  {
   "cell_type": "markdown",
   "id": "78c29b4a",
   "metadata": {},
   "source": [
    "\n",
    "\n",
    "### Unzip and Load the Data (0.1 marks)\n",
    "\n",
    "- Load the data into a DataFrame using `pd.read_csv()` into a variable called `df`.\n",
    "\n"
   ]
  },
  {
   "cell_type": "code",
   "execution_count": null,
   "id": "83a3d38c",
   "metadata": {},
   "outputs": [],
   "source": []
  },
  {
   "cell_type": "markdown",
   "id": "a8f7f71b",
   "metadata": {},
   "source": [
    "\n",
    "\n",
    "### Inspect the Data (0.2 marks)\n",
    "\n",
    "- List the column names using `df.columns`.\n",
    "\n"
   ]
  },
  {
   "cell_type": "code",
   "execution_count": null,
   "id": "c889e4b6",
   "metadata": {},
   "outputs": [],
   "source": []
  },
  {
   "cell_type": "markdown",
   "id": "3e866470",
   "metadata": {},
   "source": [
    "\n",
    "\n",
    "- Explore the data in those columns. Briefly describe each column in one sentence.\n",
    "\n"
   ]
  },
  {
   "cell_type": "code",
   "execution_count": null,
   "id": "03fd9c62",
   "metadata": {},
   "outputs": [],
   "source": []
  },
  {
   "cell_type": "markdown",
   "id": "33c82146",
   "metadata": {},
   "source": [
    "\n",
    "\n",
    "\n",
    "Suggested word count: ~100 words\n",
    "\n"
   ]
  },
  {
   "cell_type": "markdown",
   "id": "3c44ce16",
   "metadata": {},
   "source": [
    "*Your answer here. Replace the text in this markdown cell. Remember not to use Gen-AI here.* ________________________________"
   ]
  },
  {
   "cell_type": "markdown",
   "id": "3646e962",
   "metadata": {},
   "source": [
    "\n",
    "\n",
    "### Visualise Payroll Over Time (1 mark)\n",
    "\n",
    "- Create a line plot clearly showing payroll over months since launch.\n",
    "\n"
   ]
  },
  {
   "cell_type": "code",
   "execution_count": null,
   "id": "ac5cf087",
   "metadata": {},
   "outputs": [],
   "source": []
  },
  {
   "cell_type": "markdown",
   "id": "7bdb8e82",
   "metadata": {},
   "source": [
    "\n",
    "\n",
    "- Identify and briefly discuss any visible outliers.\n",
    "\n"
   ]
  },
  {
   "cell_type": "code",
   "execution_count": null,
   "id": "8be54673",
   "metadata": {},
   "outputs": [],
   "source": []
  },
  {
   "cell_type": "markdown",
   "id": "0e78e65a",
   "metadata": {},
   "source": [
    "\n",
    "\n",
    "Suggested word count: ~50 words\n",
    "\n"
   ]
  },
  {
   "cell_type": "markdown",
   "id": "2616c6e3",
   "metadata": {},
   "source": [
    "*Your answer here. Replace the text in this markdown cell. Remember not to use Gen-AI here.* ________________________________"
   ]
  },
  {
   "cell_type": "markdown",
   "id": "9e1a7fdd",
   "metadata": {},
   "source": [
    "\n",
    "\n",
    "## Linear Regression: Payroll (Total 3 marks)\n",
    "\n",
    "### Step-by-step breakdown:\n",
    "\n",
    "- (0.2 marks) Create training, validation, and test sets correctly:\n",
    "  - Training: all months except last two.\n",
    "  - Validation: second-last month.\n",
    "  - Test: last month.\n",
    "  \n"
   ]
  },
  {
   "cell_type": "code",
   "execution_count": null,
   "id": "7cd0dddb",
   "metadata": {},
   "outputs": [],
   "source": []
  },
  {
   "cell_type": "markdown",
   "id": "43a7c702",
   "metadata": {},
   "source": [
    "\n",
    "  \n",
    "- (0.5 marks) Train an Ordinary Least Squares (OLS) regressor.\n",
    "\n"
   ]
  },
  {
   "cell_type": "code",
   "execution_count": null,
   "id": "b63a9316",
   "metadata": {},
   "outputs": [],
   "source": []
  },
  {
   "cell_type": "markdown",
   "id": "0dbd63bb",
   "metadata": {},
   "source": [
    "\n",
    "\n",
    "- (0.5 marks) Train a robust regressor. Use any of the ones we talked\n",
    "  about in lectures or pracs, or one that you happen to know from\n",
    "  elsewhere.\n",
    "\n"
   ]
  },
  {
   "cell_type": "code",
   "execution_count": null,
   "id": "dd1d7fa1",
   "metadata": {},
   "outputs": [],
   "source": []
  },
  {
   "cell_type": "markdown",
   "id": "63fc63e1",
   "metadata": {},
   "source": [
    "\n",
    "\n",
    "- (0.5 marks) Clearly identify and justify an appropriate evaluation metric.\n",
    "\n"
   ]
  },
  {
   "cell_type": "code",
   "execution_count": null,
   "id": "361fdf54",
   "metadata": {},
   "outputs": [],
   "source": []
  },
  {
   "cell_type": "markdown",
   "id": "a5c4d408",
   "metadata": {},
   "source": [
    "\n",
    "\n",
    "- (0.5 marks) Evaluate both models using the validation set and state which performed better.\n",
    "\n"
   ]
  },
  {
   "cell_type": "code",
   "execution_count": null,
   "id": "0eab6c5e",
   "metadata": {},
   "outputs": [],
   "source": []
  },
  {
   "cell_type": "markdown",
   "id": "d6470664",
   "metadata": {},
   "source": [
    "\n",
    "\n"
   ]
  },
  {
   "cell_type": "markdown",
   "id": "edf2e2b8",
   "metadata": {},
   "source": [
    "*Your answer here. Replace the text in this markdown cell. Remember not to use Gen-AI here.* ________________________________"
   ]
  },
  {
   "cell_type": "markdown",
   "id": "005a443f",
   "metadata": {},
   "source": [
    "\n",
    "\n",
    "- (0.3 marks) Report accuracy of the best-performing model on the test set.\n",
    "\n"
   ]
  },
  {
   "cell_type": "code",
   "execution_count": null,
   "id": "ac6c1cd5",
   "metadata": {},
   "outputs": [],
   "source": []
  },
  {
   "cell_type": "markdown",
   "id": "b428a52b",
   "metadata": {},
   "source": [
    "\n",
    "\n",
    "- (0.5 marks) Reflect on and explain why the selected model performed\n",
    "  better or worse. If it was surprising or expected, explain why.\n",
    "\n",
    "Suggested word count: ~100 words\n",
    "\n"
   ]
  },
  {
   "cell_type": "markdown",
   "id": "f526640e",
   "metadata": {},
   "source": [
    "*Your answer here. Replace the text in this markdown cell. Remember not to use Gen-AI here.* ________________________________"
   ]
  },
  {
   "cell_type": "markdown",
   "id": "4975f97f",
   "metadata": {},
   "source": [
    "\n",
    "\n",
    "\n",
    "### Payroll Prediction (1.5 marks)\n",
    "\n",
    "- (0.5 marks) Provide your best estimate for payroll in 12 months.\n",
    "\n"
   ]
  },
  {
   "cell_type": "code",
   "execution_count": null,
   "id": "64737d9a",
   "metadata": {},
   "outputs": [],
   "source": []
  },
  {
   "cell_type": "markdown",
   "id": "3c2d30c0",
   "metadata": {},
   "source": [
    "\n",
    "\n",
    "Suggested word count: ~25 words\n",
    "\n"
   ]
  },
  {
   "cell_type": "markdown",
   "id": "38f7d635",
   "metadata": {},
   "source": [
    "*Your answer here. Replace the text in this markdown cell. Remember not to use Gen-AI here.* ________________________________"
   ]
  },
  {
   "cell_type": "markdown",
   "id": "c9b99262",
   "metadata": {},
   "source": [
    "\n",
    "\n",
    "- (1 mark) Provide an estimate that takes account for uncertainty,\n",
    "  keeping in mind the evaluation metric you chose. If you want to\n",
    "  calculate additional metrics, you can do that here too.\n",
    "  \n"
   ]
  },
  {
   "cell_type": "code",
   "execution_count": null,
   "id": "971b30ce",
   "metadata": {},
   "outputs": [],
   "source": []
  },
  {
   "cell_type": "markdown",
   "id": "d5ed073d",
   "metadata": {},
   "source": [
    "\n",
    "\n",
    "Suggested word count: ~100 words\n",
    "\n"
   ]
  },
  {
   "cell_type": "markdown",
   "id": "9fcae270",
   "metadata": {},
   "source": [
    "*Your answer here. Replace the text in this markdown cell. Remember not to use Gen-AI here.* ________________________________"
   ]
  },
  {
   "cell_type": "markdown",
   "id": "34b573be",
   "metadata": {},
   "source": [
    "\n",
    "\n",
    "## Revenue Visualisation and Transformation (1 mark)\n",
    "\n",
    "- (0.5 marks) Visualise revenue over time.\n",
    "\n"
   ]
  },
  {
   "cell_type": "code",
   "execution_count": null,
   "id": "f40bf7ca",
   "metadata": {},
   "outputs": [],
   "source": []
  },
  {
   "cell_type": "markdown",
   "id": "343d7cf4",
   "metadata": {},
   "source": [
    "\n",
    "\n",
    "- (0.5 marks) Clearly explain why applying a log transformation to revenue may help linear modelling.\n",
    "\n"
   ]
  },
  {
   "cell_type": "code",
   "execution_count": null,
   "id": "70a5739a",
   "metadata": {},
   "outputs": [],
   "source": []
  },
  {
   "cell_type": "markdown",
   "id": "7943e29d",
   "metadata": {},
   "source": [
    "\n",
    "\n",
    "## Revenue Modelling (3 marks)\n",
    "\n",
    "- (0.5 marks) Train a linear regression model (any model you choose) on the original revenue data.\n",
    "\n"
   ]
  },
  {
   "cell_type": "code",
   "execution_count": null,
   "id": "c5f50ac3",
   "metadata": {},
   "outputs": [],
   "source": []
  },
  {
   "cell_type": "markdown",
   "id": "cf9389c0",
   "metadata": {},
   "source": [
    "\n",
    "\n",
    "- (0.5 marks) Train a linear regression model on the log-transformed revenue data.\n",
    "\n"
   ]
  },
  {
   "cell_type": "code",
   "execution_count": null,
   "id": "921a8624",
   "metadata": {},
   "outputs": [],
   "source": []
  },
  {
   "cell_type": "markdown",
   "id": "c4064aa9",
   "metadata": {},
   "source": [
    "\n",
    "\n",
    "- (0.5 marks) Compare both models clearly and identify the better-performing model.\n",
    "\n"
   ]
  },
  {
   "cell_type": "code",
   "execution_count": null,
   "id": "20d8e6f2",
   "metadata": {},
   "outputs": [],
   "source": []
  },
  {
   "cell_type": "markdown",
   "id": "c12b4a41",
   "metadata": {},
   "source": [
    "\n",
    "\n",
    "Suggested word count: ~25 words\n",
    "\n"
   ]
  },
  {
   "cell_type": "markdown",
   "id": "56c2627d",
   "metadata": {},
   "source": [
    "*Your answer here. Replace the text in this markdown cell. Remember not to use Gen-AI here.* ________________________________"
   ]
  },
  {
   "cell_type": "markdown",
   "id": "c20c4960",
   "metadata": {},
   "source": [
    "\n",
    "\n",
    "- (0.5 marks) Predict revenue 12 months ahead, reversing any\n",
    "  transformations applied. Remember that the predictions of the\n",
    "  log-transformed revenue data need to be turned back into the\n",
    "  original units (dollars).\n",
    "  \n"
   ]
  },
  {
   "cell_type": "code",
   "execution_count": null,
   "id": "7745f789",
   "metadata": {},
   "outputs": [],
   "source": []
  },
  {
   "cell_type": "markdown",
   "id": "9508c2bc",
   "metadata": {},
   "source": [
    "\n",
    "\n",
    "Suggested word count: ~25 words\n",
    "\n"
   ]
  },
  {
   "cell_type": "markdown",
   "id": "e98fed0d",
   "metadata": {},
   "source": [
    "*Your answer here. Replace the text in this markdown cell. Remember not to use Gen-AI here.* ________________________________"
   ]
  },
  {
   "cell_type": "markdown",
   "id": "da38a54a",
   "metadata": {},
   "source": [
    "\n",
    "\n",
    "- (1 mark) Predict revenue 20 years ahead. Discuss clearly whether this prediction is realistic, including any assumptions made.\n",
    "\n"
   ]
  },
  {
   "cell_type": "code",
   "execution_count": null,
   "id": "fb2f02af",
   "metadata": {},
   "outputs": [],
   "source": []
  },
  {
   "cell_type": "markdown",
   "id": "ca3191a3",
   "metadata": {},
   "source": [
    "\n",
    "\n",
    "Suggested word count: ~150 words\n",
    "\n"
   ]
  },
  {
   "cell_type": "markdown",
   "id": "ffd5b961",
   "metadata": {},
   "source": [
    "*Your answer here. Replace the text in this markdown cell. Remember not to use Gen-AI here.* ________________________________"
   ]
  },
  {
   "cell_type": "markdown",
   "id": "87408c64",
   "metadata": {},
   "source": [
    "\n",
    "\n",
    "\n",
    "## Logistic Regression: Predicting Negative Media Coverage (3 marks)\n",
    "\n",
    "You will see a column called \"Media Coverage\" which takes values of\n",
    "\"Positive\" or \"Negative\". This is *categorical* data, meaning it\n",
    "consists of distinct, finite values.\n",
    "\n",
    "If a journalist wrote something nice about the company you will see a\n",
    "\"Positive\" in this column. If they wrote something bad about the\n",
    "company (or didn't write anything at all), you will see a \"Negative\"\n",
    "in this column.\n",
    "\n",
    "- (0.5 marks) Which features will you use to predict \"Media Coverage\"?\n",
    "\n",
    "Suggested word count: ~50 words\n",
    "\n"
   ]
  },
  {
   "cell_type": "markdown",
   "id": "775457ad",
   "metadata": {},
   "source": [
    "*Your answer here. Replace the text in this markdown cell. Remember not to use Gen-AI here.* ________________________________"
   ]
  },
  {
   "cell_type": "markdown",
   "id": "4ba57c71",
   "metadata": {},
   "source": [
    "\n",
    "\n",
    "- (0.1 marks) We don't need validation data (we aren't comparing any models), but we do need test\n",
    "  data so that we can see if the model is worthwhile. Randomly select some data to act as test\n",
    "  data.\n",
    "  \n"
   ]
  },
  {
   "cell_type": "code",
   "execution_count": null,
   "id": "6864e0a7",
   "metadata": {},
   "outputs": [],
   "source": []
  },
  {
   "cell_type": "markdown",
   "id": "e3abbdf3",
   "metadata": {},
   "source": [
    "\n",
    "  \n",
    "- (0.1 marks) Train a logistic regression model on the training (non-test) data\n",
    "\n"
   ]
  },
  {
   "cell_type": "code",
   "execution_count": null,
   "id": "70e23258",
   "metadata": {},
   "outputs": [],
   "source": []
  },
  {
   "cell_type": "markdown",
   "id": "c3d10561",
   "metadata": {},
   "source": [
    "\n",
    "\n",
    "- (0.1 marks) Choose a metric and evaluate the success of your logistic regression\n",
    "\n"
   ]
  },
  {
   "cell_type": "code",
   "execution_count": null,
   "id": "844c11ae",
   "metadata": {},
   "outputs": [],
   "source": []
  },
  {
   "cell_type": "markdown",
   "id": "16c2e1e1",
   "metadata": {},
   "source": [
    "\n",
    "\n",
    "- (0.1 marks) Examine the coefficients of the logistic regression model that you created.\n",
    "\n"
   ]
  },
  {
   "cell_type": "code",
   "execution_count": null,
   "id": "1c94c42c",
   "metadata": {},
   "outputs": [],
   "source": []
  },
  {
   "cell_type": "markdown",
   "id": "8da42f45",
   "metadata": {},
   "source": [
    "\n",
    "\n",
    "- (1 mark) Clearly discuss the logistic regression coefficients and\n",
    "  identify the most influential features contributing to negative\n",
    "  media coverage.\n",
    "  \n",
    "  Suggested word count: ~150 words\n",
    "\n"
   ]
  },
  {
   "cell_type": "markdown",
   "id": "1b968086",
   "metadata": {},
   "source": [
    "*Your answer here. Replace the text in this markdown cell. Remember not to use Gen-AI here.* ________________________________"
   ]
  },
  {
   "cell_type": "markdown",
   "id": "37303483",
   "metadata": {},
   "source": [
    "\n",
    "\n",
    "- (1 mark) Use the logistic regression model to predict the probability of negative media\n",
    "  coverage 12 months from now. Assume that there are no scandals in that month.\n",
    "  \n"
   ]
  },
  {
   "cell_type": "code",
   "execution_count": null,
   "id": "69d19bce",
   "metadata": {},
   "outputs": [],
   "source": []
  },
  {
   "cell_type": "markdown",
   "id": "83e0462c",
   "metadata": {},
   "source": [
    "\n",
    "\n",
    "Suggested word count: ~25 words\n",
    "\n"
   ]
  },
  {
   "cell_type": "markdown",
   "id": "0aeed4b3",
   "metadata": {},
   "source": [
    "*Your answer here. Replace the text in this markdown cell. Remember not to use Gen-AI here.* ________________________________"
   ]
  },
  {
   "cell_type": "markdown",
   "id": "bf7749b0",
   "metadata": {},
   "source": [
    "\n",
    "\n",
    "- (0.1 marks) Restart the kernel and rerun the notebook to verify that\n",
    "  it is still working start-to-finish. Enter the \"RESTARTED AND\n",
    "  CHECKED\" in the next cell when you have done this.\n",
    "  \n",
    "  Suggested word count: 3 words\n",
    "  \n"
   ]
  },
  {
   "cell_type": "markdown",
   "id": "801671f3",
   "metadata": {},
   "source": [
    "*Your answer here. Replace the text in this markdown cell. Remember not to use Gen-AI here.* ________________________________"
   ]
  },
  {
   "cell_type": "markdown",
   "id": "78384750",
   "metadata": {},
   "source": [
    "\n",
    "\n",
    "## Written Summary of Findings (1.5 marks)\n",
    "\n",
    "- Provide a coherent one-paragraph summary clearly highlighting key\n",
    "  results and your confidence in these predictions. The investment\n",
    "  fund wants to know what you think this company will be like in a\n",
    "  year's time (revenue, payroll, media coverage).\n",
    "  \n",
    "Note that we aren't marking whether you have a right or wrong answer here, we are\n",
    "going to mark whether what you say shows an understanding of what your data \n",
    "analysis and modelling produced.\n",
    "\n",
    "If you want to add any visualisations here, you can.\n",
    "\n"
   ]
  },
  {
   "cell_type": "code",
   "execution_count": null,
   "id": "6eea1a73",
   "metadata": {},
   "outputs": [],
   "source": []
  },
  {
   "cell_type": "markdown",
   "id": "3884b117",
   "metadata": {},
   "source": [
    "\n",
    "\n",
    "Suggested word count: ~250 words\n",
    "\n"
   ]
  },
  {
   "cell_type": "markdown",
   "id": "24aa9fc3",
   "metadata": {},
   "source": [
    "*Your answer here. Replace the text in this markdown cell. Remember not to use Gen-AI here.* ________________________________"
   ]
  },
  {
   "cell_type": "markdown",
   "id": "334cf26f",
   "metadata": {},
   "source": [
    "\n",
    "\n",
    "\n",
    "## 2-Minute Video Presentation (1.5 marks)\n",
    "\n",
    "Some of your (non-technical) colleagues in this venture capital firm\n",
    "are in other timezones, and don't know how to program, so you need to\n",
    "create a video presentation for them describing your insights.\n",
    "\n",
    "It is common for data scientists to record screencasts (a presentation\n",
    "with a voiceover); not everyone records video of themselves\n",
    "talking. Some people use the QuickTime application in OSX; some record\n",
    "a Zoom meeting; people find technology and programs that they are\n",
    "comfortable using.\n",
    "\n",
    "Some people present presentations directly from their Jupyter notebook;\n",
    "others create custom PowerPoint presentations. \n",
    "\n",
    "So your choices in this section are quite open. \n",
    "\n",
    "- (0.5 marks) Submit a video, and ensure the video is in low resolution (SD, 480p)\n",
    "  so that it is small enough to upload. Keep the time to around 2\n",
    "  minutes.\n",
    "\n",
    "- (0.6 marks) State what you believe will happen to this startup over the next 12 months:\n",
    "  revenue, payroll, positive/negative media coverage. (0.6 marks)\n",
    "  \n",
    "- (0.4 marks) Briefly discuss any limitations or assumptions you made\n",
    "  in your analysis and how they might affect your predictions. Suggest\n",
    "  at least one practical step or recommendation to address these\n",
    "  concerns.\n",
    "\n",
    "\n",
    "\n",
    "\n",
    "\n",
    "\n",
    "## Late Assessment Submission Penalty \n",
    "\n",
    "Unless a Special Consideration request has been submitted and\n",
    "approved, a 5% penalty (of the total possible mark of the task) will\n",
    "be applied for each day a written report or presentation assessment is\n",
    "not submitted, up until the 7th day (including weekends). After the\n",
    "7th day, a grade of ‘0’ will be awarded even if the assessment is\n",
    "submitted. The submission time for all uploaded assessments is 11:55\n",
    "pm. A 1-hour grace period will be provided to students who experience\n",
    "a technical concern. For any late submission of time-sensitive tasks,\n",
    "such as scheduled tests/exams, performance assessments/presentations,\n",
    "and/or scheduled practical assessments/labs, please apply for\n",
    "[Special Consideration](https://students.mq.edu.au/study/assessment-exams/special-consideration).\n",
    "\n",
    "For example, as this assignment is worth 15% of the entire unit, a\n",
    "submission late by up to 24 hours will incur a penalty of 0.75 marks\n",
    "(5% of 15 marks). A submission that is late by between 24 and 48 hours\n",
    "will incur a penalty of 1.5 marks (10% of 15 marks), and so on.\n",
    "\n",
    "## Sample Gen-AI prompts\n",
    "\n",
    "Programming prompts:\n",
    "\n",
    "```\n",
    "Don't give me the answer directly, but help guide me to answering\n",
    "this question. I will be programming in Python using the pandas and scikit-learn\n",
    "libraries. If it appears that I don't know something that I would need to \n",
    "answer a question, suggest functions or classes that I should learn about. Always\n",
    "add little bits of information that will guide my journey.\n",
    "\n",
    "Here is my code so far, and the question I am trying to answer\n",
    "(....)\n",
    "```\n",
    "\n",
    "If you are concerned about your grammar or language, try a prompt like this:\n",
    "\n",
    "```\n",
    "Find any grammatical mistakes, typos or other language errors in this\n",
    "text. Don't make the corrections, just list for me what was wrong and\n",
    "explain the problem.\n",
    "```\n",
    "\n"
   ]
  }
 ],
 "metadata": {},
 "nbformat": 4,
 "nbformat_minor": 5
}
