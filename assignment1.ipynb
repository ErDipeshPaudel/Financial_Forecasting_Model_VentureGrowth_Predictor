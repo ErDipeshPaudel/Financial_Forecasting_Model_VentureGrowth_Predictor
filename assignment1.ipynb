{
 "cells": [
  {
   "cell_type": "markdown",
   "id": "b1dbe997",
   "metadata": {},
   "source": [
    "# COMP2200/COMP6200 Assignment 1\n",
    "\n",
    "Due date: 11:55pm on Sunday April 6th 2025\n",
    "\n",
    "(Note that daylight savings ends earlier on that day. Remember to move your clock backward by an hour.)\n",
    "\n",
    "## Scenario\n",
    "\n",
    "You are working as a data scientist in a venture capital investment firm. You have been given some\n",
    "data about a potential company to invest in. You will create some models to predict what the \n",
    "potential company will be like in 12 months' time.\n",
    "\n",
    "\n",
    "## About this assignment\n",
    "\n",
    "This assessment focuses on fundamental statistical analysis, which\n",
    "will apply linear and logistic regression techniques on one or more\n",
    "data sets.\n",
    "\n",
    "The relevant ULO (Unit Learning Outcomes) are:\n",
    "\n",
    "- Identify the appropriate Data Science analysis for a problem and\n",
    "  apply that method to the problem.\n",
    "\n",
    "- Interpret Data Science analyses and summarise and identify the most\n",
    "  important aspects of a Data Science analysis.\n",
    "\n",
    "- Present the results of their Data Science analyses both verbally and\n",
    "  in written form.\n",
    "  \n",
    "Total: 15 marks\n",
    "  \n",
    "\n",
    "## Submission\n",
    "\n",
    "Use https://classroom.github.com/a/BdRkY5OH to create a new empty\n",
    "repository.\n",
    "\n",
    "Complete this notebook and add it to a new GitHub repository.\n",
    "\n",
    "Submit this repository via Github Classroom.\n",
    "\n",
    "Add the video that you create (in the last step) to your GitHub repository.\n",
    "\n",
    "You don't need to submit your CSV data file, but we won't penalise you\n",
    "if you do.\n",
    "\n",
    "## Use of Generative AI\n",
    "\n",
    "Feel free to use Gen-AI tools (ChatGPT, Anthropic Claude, DeepSeek,\n",
    "Llama, etc.) to assist you in writing the code. That's what everyone\n",
    "in industry does nowadays. There are some suggested prompts at the bottom\n",
    "of this notebook.\n",
    "\n",
    "Remember that you may be called on to explain what your code does and\n",
    "how it works, so if you have some code generated for you that you\n",
    "don't fully understand, spend some time with your Gen-AI tool asking\n",
    "for clarification until you are confident. Having a personal tutor\n",
    "guide you is one of the newest and fastest ways to learn to program in\n",
    "Python, so make the most of the opportunity. \n",
    "\n",
    "To help you remember what your code does, you can add comments to your\n",
    "code either by creating another markdown cell, or by using \"#\" at the\n",
    "beginning of a line in a code cell.\n",
    "\n",
    "Don't use Gen-AI tools for writing reflections and observations. You\n",
    "will find many cells in this notebook where you need to enter markdown text.\n",
    "They appear like this:\n",
    "\n",
    "**Your answer here. Replace the text in this markdown cell. Remember not to use Gen-AI here.**\n",
    "\n",
    "You don't want to use Gen-AI in these cells for two reasons:\n",
    "\n",
    "- Thinking and reflecting is how you will get most of the benefit of doing this assignment.\n",
    "\n",
    "- It will produce meaningless and bland statements (that will be obviously meaningless and bland)\n",
    "  and you will get bad marks.\n",
    "  \n",
    "\n",
    "## Marking Criteria\n",
    "\n",
    "For a code cell, any working correct answer will earn full marks. For\n",
    "non-working code, or code that performs a different task, if it seems\n",
    "like you were on the right track, the marker may issue partial marks.\n",
    "\n",
    "For code cells that create visualisations, a correct answer is one that\n",
    "creates a meaningful and useful visualisation of the data.\n",
    "\n",
    "For a text (markdown) cell, word counts are only a guide: this is how\n",
    "many words we think it will take to give a good answer. If you need to\n",
    "use more words, or can express your answer in less words, go ahead: a\n",
    "good answer will still receive full marks.\n",
    "\n",
    "Answers given as dot points in a markdown cell are acceptable;\n",
    "likewise full sentences in paragraphs are acceptable.\n",
    "\n",
    "## Resources\n",
    "\n",
    "The textbook for the unit (_Introduction to Data Science_ by Igual and\n",
    "Segui) has some linear regression examples as well. You might find\n",
    "Section 6.2.3 useful if you are looking for sample code that performs\n",
    "linear regression. Section 6.3.1 has an example of logistic\n",
    "regression.\n",
    "\n",
    "\n",
    "## Data\n",
    "\n",
    "You will find a large zip file called `2025-S1-COMP2200-6200-assignment1.zip` on iLearn.  When you expand it\n",
    "out, you will see many files, including one that begins with your\n",
    "student number. e.g `1235345 Brown-Miller Group.csv`\n",
    "\n",
    "Copy it into the same directory as you copied this Jupyter notebook.\n",
    "\n",
    "### Create a GitHub repo within Github Classroom (0.1 marks)\n",
    "\n",
    "- Yes, we'll give you 0.1 marks just for getting this far.\n",
    "\n",
    "### Import any libraries you need (0.1 marks)\n",
    "\n"
   ]
  },
  {
   "cell_type": "code",
   "execution_count": 1,
   "id": "2880dd9b",
   "metadata": {},
   "outputs": [],
   "source": [
    "#Python version 3.12.2\n",
    "#install the required python libraries (pandas numpy matplotlib seaborn and scikit-learn)\n",
    "#pip install pandas numpy matplotlib seaborn scikit-learn\n",
    "\n",
    "import pandas as pd\n",
    "import numpy as np\n",
    "import matplotlib.pyplot as plt\n",
    "import seaborn as sns\n"
   ]
  },
  {
   "cell_type": "markdown",
   "id": "c0554759",
   "metadata": {},
   "source": [
    "\n",
    "\n",
    "If you are doing something exotic --- e.g you are using libraries\n",
    "other than pandas and scikit-learn --- and you want the marker to\n",
    "install an extra package or use a particular version of Python, tell\n",
    "us about it here. Most students will leave this blank.\n",
    "\n"
   ]
  },
  {
   "cell_type": "markdown",
   "id": "891ec97d",
   "metadata": {},
   "source": [
    "We will be using other libraries like numpy for numerical operations and we will use seaborn for data visualization."
   ]
  },
  {
   "cell_type": "markdown",
   "id": "78c29b4a",
   "metadata": {},
   "source": [
    "\n",
    "\n",
    "### Unzip and Load the Data (0.1 marks)\n",
    "\n",
    "- Load the data into a DataFrame using `pd.read_csv()` into a variable called `df`.\n",
    "\n"
   ]
  },
  {
   "cell_type": "code",
   "execution_count": 2,
   "id": "83a3d38c",
   "metadata": {},
   "outputs": [],
   "source": [
    "\n",
    "#Load dataset for my student ID 48724254\n",
    "assignment_data = \"48724254_Miller_Gregory_and_Pugh_Ltd.csv\"\n",
    "df = pd.read_csv(assignment_data)"
   ]
  },
  {
   "cell_type": "markdown",
   "id": "a8f7f71b",
   "metadata": {},
   "source": [
    "\n",
    "\n",
    "### Inspect the Data (0.2 marks)\n",
    "\n",
    "- List the column names using `df.columns`.\n",
    "\n"
   ]
  },
  {
   "cell_type": "code",
   "execution_count": 3,
   "id": "c889e4b6",
   "metadata": {},
   "outputs": [
    {
     "data": {
      "text/plain": [
       "Index(['Months_Since_Launch', 'Payroll', 'Revenue', 'Base_10_Log_Revenue',\n",
       "       'Scandals', 'Media Coverage'],\n",
       "      dtype='object')"
      ]
     },
     "execution_count": 3,
     "metadata": {},
     "output_type": "execute_result"
    }
   ],
   "source": [
    "df.columns"
   ]
  },
  {
   "cell_type": "markdown",
   "id": "3e866470",
   "metadata": {},
   "source": [
    "\n",
    "\n",
    "- Explore the data in those columns. Briefly describe each column in one sentence.\n"
   ]
  },
  {
   "cell_type": "code",
   "execution_count": 4,
   "id": "03fd9c62",
   "metadata": {},
   "outputs": [
    {
     "data": {
      "text/html": [
       "<div>\n",
       "<style scoped>\n",
       "    .dataframe tbody tr th:only-of-type {\n",
       "        vertical-align: middle;\n",
       "    }\n",
       "\n",
       "    .dataframe tbody tr th {\n",
       "        vertical-align: top;\n",
       "    }\n",
       "\n",
       "    .dataframe thead th {\n",
       "        text-align: right;\n",
       "    }\n",
       "</style>\n",
       "<table border=\"1\" class=\"dataframe\">\n",
       "  <thead>\n",
       "    <tr style=\"text-align: right;\">\n",
       "      <th></th>\n",
       "      <th>Months_Since_Launch</th>\n",
       "      <th>Payroll</th>\n",
       "      <th>Revenue</th>\n",
       "      <th>Base_10_Log_Revenue</th>\n",
       "      <th>Scandals</th>\n",
       "      <th>Media Coverage</th>\n",
       "    </tr>\n",
       "  </thead>\n",
       "  <tbody>\n",
       "    <tr>\n",
       "      <th>0</th>\n",
       "      <td>1</td>\n",
       "      <td>3438538.49</td>\n",
       "      <td>9917.32</td>\n",
       "      <td>3.9964</td>\n",
       "      <td>0</td>\n",
       "      <td>Negative</td>\n",
       "    </tr>\n",
       "    <tr>\n",
       "      <th>1</th>\n",
       "      <td>2</td>\n",
       "      <td>3732088.84</td>\n",
       "      <td>15923.91</td>\n",
       "      <td>4.2020</td>\n",
       "      <td>0</td>\n",
       "      <td>Negative</td>\n",
       "    </tr>\n",
       "    <tr>\n",
       "      <th>2</th>\n",
       "      <td>3</td>\n",
       "      <td>4041147.40</td>\n",
       "      <td>14243.97</td>\n",
       "      <td>4.1536</td>\n",
       "      <td>0</td>\n",
       "      <td>Negative</td>\n",
       "    </tr>\n",
       "  </tbody>\n",
       "</table>\n",
       "</div>"
      ],
      "text/plain": [
       "   Months_Since_Launch     Payroll   Revenue  Base_10_Log_Revenue  Scandals  \\\n",
       "0                    1  3438538.49   9917.32               3.9964         0   \n",
       "1                    2  3732088.84  15923.91               4.2020         0   \n",
       "2                    3  4041147.40  14243.97               4.1536         0   \n",
       "\n",
       "  Media Coverage  \n",
       "0       Negative  \n",
       "1       Negative  \n",
       "2       Negative  "
      ]
     },
     "execution_count": 4,
     "metadata": {},
     "output_type": "execute_result"
    }
   ],
   "source": [
    "df.head(3)"
   ]
  },
  {
   "cell_type": "code",
   "execution_count": 5,
   "id": "72f69b7c",
   "metadata": {},
   "outputs": [
    {
     "data": {
      "text/html": [
       "<div>\n",
       "<style scoped>\n",
       "    .dataframe tbody tr th:only-of-type {\n",
       "        vertical-align: middle;\n",
       "    }\n",
       "\n",
       "    .dataframe tbody tr th {\n",
       "        vertical-align: top;\n",
       "    }\n",
       "\n",
       "    .dataframe thead th {\n",
       "        text-align: right;\n",
       "    }\n",
       "</style>\n",
       "<table border=\"1\" class=\"dataframe\">\n",
       "  <thead>\n",
       "    <tr style=\"text-align: right;\">\n",
       "      <th></th>\n",
       "      <th>Months_Since_Launch</th>\n",
       "      <th>Payroll</th>\n",
       "      <th>Revenue</th>\n",
       "      <th>Base_10_Log_Revenue</th>\n",
       "      <th>Scandals</th>\n",
       "      <th>Media Coverage</th>\n",
       "    </tr>\n",
       "  </thead>\n",
       "  <tbody>\n",
       "    <tr>\n",
       "      <th>21</th>\n",
       "      <td>22</td>\n",
       "      <td>6815242.73</td>\n",
       "      <td>583341.98</td>\n",
       "      <td>5.7659</td>\n",
       "      <td>0</td>\n",
       "      <td>Positive</td>\n",
       "    </tr>\n",
       "    <tr>\n",
       "      <th>22</th>\n",
       "      <td>23</td>\n",
       "      <td>6936854.29</td>\n",
       "      <td>793150.52</td>\n",
       "      <td>5.8994</td>\n",
       "      <td>0</td>\n",
       "      <td>Positive</td>\n",
       "    </tr>\n",
       "    <tr>\n",
       "      <th>23</th>\n",
       "      <td>24</td>\n",
       "      <td>6958246.45</td>\n",
       "      <td>903016.50</td>\n",
       "      <td>5.9557</td>\n",
       "      <td>0</td>\n",
       "      <td>Positive</td>\n",
       "    </tr>\n",
       "  </tbody>\n",
       "</table>\n",
       "</div>"
      ],
      "text/plain": [
       "    Months_Since_Launch     Payroll    Revenue  Base_10_Log_Revenue  Scandals  \\\n",
       "21                   22  6815242.73  583341.98               5.7659         0   \n",
       "22                   23  6936854.29  793150.52               5.8994         0   \n",
       "23                   24  6958246.45  903016.50               5.9557         0   \n",
       "\n",
       "   Media Coverage  \n",
       "21       Positive  \n",
       "22       Positive  \n",
       "23       Positive  "
      ]
     },
     "execution_count": 5,
     "metadata": {},
     "output_type": "execute_result"
    }
   ],
   "source": [
    "df.tail(3)"
   ]
  },
  {
   "cell_type": "markdown",
   "id": "33c82146",
   "metadata": {},
   "source": [
    "\n",
    "\n",
    "\n",
    "Suggested word count: ~100 words\n",
    "\n"
   ]
  },
  {
   "cell_type": "markdown",
   "id": "3c44ce16",
   "metadata": {},
   "source": [
    "In this dataset we have following columns which represents different data:\n",
    "\n",
    "Months Since Launch represents the number of months since company was launched.\n",
    "\n",
    "Payroll shows total salary paid to employees.\n",
    "\n",
    "Revenue shows the income of the company.\n",
    "\n",
    "Base 10 log revenue shows the logarathimic transformation of revenue to manage the skewness of data.\n",
    "\n",
    "Scandals shows the number of scandles on the company which are all zero.\n",
    "\n",
    "Media coverage shows the positive or negative media coverage of the company."
   ]
  },
  {
   "cell_type": "markdown",
   "id": "3646e962",
   "metadata": {},
   "source": [
    "\n",
    "\n",
    "### Visualise Payroll Over Time (1 mark)\n",
    "\n",
    "- Create a line plot clearly showing payroll over months since launch.\n",
    "\n"
   ]
  },
  {
   "cell_type": "code",
   "execution_count": 6,
   "id": "40c95691",
   "metadata": {},
   "outputs": [
    {
     "name": "stderr",
     "output_type": "stream",
     "text": [
      "c:\\Users\\wecda\\AppData\\Local\\Programs\\Python\\Python312\\Lib\\site-packages\\IPython\\core\\pylabtools.py:170: UserWarning: Glyph 128202 (\\N{BAR CHART}) missing from font(s) Arial.\n",
      "  fig.canvas.print_figure(bytes_io, **kw)\n"
     ]
    },
    {
     "data": {
      "image/png": "[encoded data removed]",
      "text/plain": [
       "<Figure size 1000x400 with 1 Axes>"
      ]
     },
     "metadata": {},
     "output_type": "display_data"
    }
   ],
   "source": [
    "#Lets use matplotlib and seaborn to visualize the paroll data over the time\n",
    "\n",
    "import seaborn as sns\n",
    "import matplotlib.pyplot as plt\n",
    "# Set Seaborn theme\n",
    "sns.set_theme(style=\"darkgrid\", palette=\"pastel\")\n",
    "\n",
    "# Set figure size\n",
    "plt.figure(figsize=(10, 4))\n",
    "\n",
    "# Create line plot with enhancements\n",
    "sns.lineplot(\n",
    "    x=\"Months_Since_Launch\", \n",
    "    y=\"Payroll\", \n",
    "    data=df, \n",
    "    marker=\"o\", \n",
    "    markersize=8, \n",
    "    color=\"#FF6F61\",  # Soft red color\n",
    "    linewidth=2.5\n",
    ")\n",
    "\n",
    "# Customize labels and title\n",
    "plt.xlabel(\"Months Since Launch\", fontsize=14, fontweight='bold', color=\"#333333\")\n",
    "plt.ylabel(\"Payroll ($)\", fontsize=14, fontweight='bold', color=\"#333333\")\n",
    "plt.title(\"📊 Payroll Over Time\", fontsize=16, fontweight='bold', color=\"#222222\")\n",
    "\n",
    "# Add grid and style tweaks\n",
    "plt.xticks(fontsize=12)\n",
    "plt.yticks(fontsize=12)\n",
    "plt.grid(True, linestyle=\"--\", alpha=0.6)\n",
    "\n",
    "# Show the plot\n",
    "plt.show()\n"
   ]
  },
  {
   "cell_type": "markdown",
   "id": "7bdb8e82",
   "metadata": {},
   "source": [
    "\n",
    "\n",
    "- Identify and briefly discuss any visible outliers.\n",
    "\n"
   ]
  },
  {
   "cell_type": "code",
   "execution_count": 7,
   "id": "8be54673",
   "metadata": {},
   "outputs": [
    {
     "data": {
      "image/png": "[encoded data removed]",
      "text/plain": [
       "<Figure size 800x500 with 1 Axes>"
      ]
     },
     "metadata": {},
     "output_type": "display_data"
    }
   ],
   "source": [
    "import seaborn as sns\n",
    "import matplotlib.pyplot as plt\n",
    "\n",
    "# Set Seaborn theme\n",
    "sns.set_theme(style=\"whitegrid\")\n",
    "\n",
    "# Set figure size\n",
    "plt.figure(figsize=(8, 5))\n",
    "\n",
    "# Create Seaborn boxplot for Payroll\n",
    "sns.boxplot(x=df[\"Payroll\"], color=\"lightblue\", flierprops={\"marker\": \"o\", \"markerfacecolor\": \"red\", \"markersize\": 8})\n",
    "\n",
    "# Labels and title\n",
    "plt.xlabel(\"Payroll ($)\", fontsize=12)\n",
    "plt.title(\"Seaborn Boxplot of Payroll (Outlier Detection)\", fontsize=14)\n",
    "\n",
    "# Show the plot\n",
    "plt.show()\n"
   ]
  },
  {
   "cell_type": "markdown",
   "id": "0e78e65a",
   "metadata": {},
   "source": [
    "\n",
    "\n",
    "Suggested word count: ~50 words\n",
    "\n"
   ]
  },
  {
   "cell_type": "markdown",
   "id": "2616c6e3",
   "metadata": {},
   "source": [
    "There is sudden spike in payroll on the 14th month month since launch. The value lies outside the normal distribution."
   ]
  },
  {
   "cell_type": "markdown",
   "id": "9e1a7fdd",
   "metadata": {},
   "source": [
    "\n",
    "\n",
    "## Linear Regression: Payroll (Total 3 marks)\n",
    "\n",
    "### Step-by-step breakdown:\n",
    "\n",
    "- (0.2 marks) Create training, validation, and test sets correctly:\n",
    "  - Training: all months except last two.\n",
    "  - Validation: second-last month.\n",
    "  - Test: last month.\n",
    "  \n"
   ]
  },
  {
   "cell_type": "code",
   "execution_count": 8,
   "id": "7cd0dddb",
   "metadata": {},
   "outputs": [
    {
     "name": "stdout",
     "output_type": "stream",
     "text": [
      "Training Set Shape: (22, 6)\n",
      "Validation Set Shape: (1, 6)\n",
      "Test Set Shape: (1, 6)\n"
     ]
    }
   ],
   "source": [
    "# Sort dataset by Months_Since_Launch to maintain order\n",
    "df = df.sort_values(by=\"Months_Since_Launch\")\n",
    "\n",
    "# Define the split points\n",
    "train_data = df.iloc[:-2]   # All months except the last two\n",
    "val_data = df.iloc[-2:-1]   # Second-last month\n",
    "test_data = df.iloc[-1:]    # Last month\n",
    "\n",
    "# Display the shapes of the sets\n",
    "print(\"Training Set Shape:\", train_data.shape)\n",
    "print(\"Validation Set Shape:\", val_data.shape)\n",
    "print(\"Test Set Shape:\", test_data.shape)\n"
   ]
  },
  {
   "cell_type": "markdown",
   "id": "43a7c702",
   "metadata": {},
   "source": [
    "\n",
    "  \n",
    "- (0.5 marks) Train an Ordinary Least Squares (OLS) regressor.\n",
    "\n"
   ]
  },
  {
   "cell_type": "code",
   "execution_count": 9,
   "id": "b63a9316",
   "metadata": {},
   "outputs": [
    {
     "name": "stdout",
     "output_type": "stream",
     "text": [
      "OLS Coefficients: [178400.37696781]\n",
      "OLS Intercept: 3466671.75896104\n"
     ]
    }
   ],
   "source": [
    "from sklearn.linear_model import LinearRegression\n",
    "\n",
    "# Define features (X) and target (y)\n",
    "X_train = train_data[[\"Months_Since_Launch\"]]\n",
    "y_train = train_data[\"Payroll\"]\n",
    "\n",
    "X_val = val_data[[\"Months_Since_Launch\"]]\n",
    "y_val = val_data[\"Payroll\"]\n",
    "\n",
    "X_test = test_data[[\"Months_Since_Launch\"]]\n",
    "y_test = test_data[\"Payroll\"]\n",
    "\n",
    "# Train an Ordinary Least Squares (OLS) model\n",
    "ols_model = LinearRegression()\n",
    "ols_model.fit(X_train, y_train)\n",
    "\n",
    "# Print model coefficients\n",
    "print(\"OLS Coefficients:\", ols_model.coef_)\n",
    "print(\"OLS Intercept:\", ols_model.intercept_)"
   ]
  },
  {
   "cell_type": "markdown",
   "id": "0dbd63bb",
   "metadata": {},
   "source": [
    "\n",
    "\n",
    "- (0.5 marks) Train a robust regressor. Use any of the ones we talked\n",
    "  about in lectures or pracs, or one that you happen to know from\n",
    "  elsewhere.\n",
    "\n"
   ]
  },
  {
   "cell_type": "code",
   "execution_count": 10,
   "id": "dd1d7fa1",
   "metadata": {},
   "outputs": [
    {
     "name": "stdout",
     "output_type": "stream",
     "text": [
      "Robust Regressor Coefficients: [158796.67175202]\n",
      "Robust Regressor Intercept: 3424364.203250539\n"
     ]
    }
   ],
   "source": [
    "from sklearn.linear_model import HuberRegressor\n",
    "\n",
    "# Train a robust regression model\n",
    "robust_model = HuberRegressor()\n",
    "robust_model.fit(X_train, y_train)\n",
    "\n",
    "# Print model coefficients\n",
    "print(\"Robust Regressor Coefficients:\", robust_model.coef_)\n",
    "print(\"Robust Regressor Intercept:\", robust_model.intercept_)"
   ]
  },
  {
   "cell_type": "markdown",
   "id": "63fc63e1",
   "metadata": {},
   "source": [
    "\n",
    "\n",
    "- (0.5 marks) Clearly identify and justify an appropriate evaluation metric.\n",
    "\n"
   ]
  },
  {
   "cell_type": "markdown",
   "id": "782edc53",
   "metadata": {},
   "source": [
    "HuberRegresor performed the the best evaluation because Robust Regressor came with lowest value here."
   ]
  },
  {
   "cell_type": "markdown",
   "id": "a5c4d408",
   "metadata": {},
   "source": [
    "\n",
    "\n",
    "- (0.5 marks) Evaluate both models using the validation set and state which performed better.\n",
    "\n"
   ]
  },
  {
   "cell_type": "code",
   "execution_count": 11,
   "id": "0eab6c5e",
   "metadata": {},
   "outputs": [
    {
     "name": "stdout",
     "output_type": "stream",
     "text": [
      "OLS Model:\n",
      " - MAE: 633026.14\n",
      " - RMSE: 633026.14\n",
      "\n",
      "Robust Regressor:\n",
      " - MAE: 139833.36\n",
      " - RMSE: 139833.36\n"
     ]
    }
   ],
   "source": [
    "from sklearn.metrics import mean_absolute_error, mean_squared_error\n",
    "import numpy as np\n",
    "\n",
    "# Make predictions on validation data\n",
    "ols_val_pred = ols_model.predict(X_val)\n",
    "robust_val_pred = robust_model.predict(X_val)\n",
    "\n",
    "# Compute MAE\n",
    "ols_mae = mean_absolute_error(y_val, ols_val_pred)\n",
    "robust_mae = mean_absolute_error(y_val, robust_val_pred)\n",
    "\n",
    "# Compute RMSE\n",
    "ols_rmse = np.sqrt(mean_squared_error(y_val, ols_val_pred))\n",
    "robust_rmse = np.sqrt(mean_squared_error(y_val, robust_val_pred))\n",
    "\n",
    "# Print results\n",
    "print(\"OLS Model:\")\n",
    "print(f\" - MAE: {ols_mae:.2f}\")\n",
    "print(f\" - RMSE: {ols_rmse:.2f}\\n\")\n",
    "\n",
    "print(\"Robust Regressor:\")\n",
    "print(f\" - MAE: {robust_mae:.2f}\")\n",
    "print(f\" - RMSE: {robust_rmse:.2f}\")\n"
   ]
  },
  {
   "cell_type": "markdown",
   "id": "d6470664",
   "metadata": {},
   "source": [
    "The Robust Regressor is the preferred model for payroll prediction because it has much lower MAE and RMSE, meaning its predictions are closer to actual payroll values.\n"
   ]
  },
  {
   "cell_type": "markdown",
   "id": "005a443f",
   "metadata": {},
   "source": [
    "\n",
    "\n",
    "- (0.3 marks) Report accuracy of the best-performing model on the test set.\n",
    "\n"
   ]
  },
  {
   "cell_type": "code",
   "execution_count": 12,
   "id": "ac6c1cd5",
   "metadata": {},
   "outputs": [
    {
     "name": "stdout",
     "output_type": "stream",
     "text": [
      "Robust Regressor Test Performance:\n",
      " - MAE: 277237.88\n",
      " - RMSE: 277237.88\n"
     ]
    }
   ],
   "source": [
    "# Make predictions on the test set\n",
    "robust_test_pred = robust_model.predict(X_test)\n",
    "\n",
    "# Compute MAE and RMSE\n",
    "robust_test_mae = mean_absolute_error(y_test, robust_test_pred)\n",
    "robust_test_rmse = np.sqrt(mean_squared_error(y_test, robust_test_pred))\n",
    "\n",
    "# Print results\n",
    "print(\"Robust Regressor Test Performance:\")\n",
    "print(f\" - MAE: {robust_test_mae:.2f}\")\n",
    "print(f\" - RMSE: {robust_test_rmse:.2f}\")"
   ]
  },
  {
   "cell_type": "markdown",
   "id": "b428a52b",
   "metadata": {},
   "source": [
    "\n",
    "\n",
    "- (0.5 marks) Reflect on and explain why the selected model performed\n",
    "  better or worse. If it was surprising or expected, explain why.\n",
    "\n",
    "Suggested word count: ~100 words\n",
    "\n"
   ]
  },
  {
   "cell_type": "markdown",
   "id": "f526640e",
   "metadata": {},
   "source": [
    "The OLS model has high RMSE and MAE, shows it was heavily influenced by extreme values, leading to poor generalization but the Robust Regressor has significantly lower errors, showing better resilience to anomalies. So Robust Regressor outperformed the OLS model because it is less sensitive to outliers, which were present in the payroll data.\n",
    "\n",
    "test set error increased compared to validation, this was expected due to potential unseen variations, as robust regression techniques are specifically designed to handle datasets with irregularities. This justifies its selection as the preferred model for payroll prediction."
   ]
  },
  {
   "cell_type": "markdown",
   "id": "4975f97f",
   "metadata": {},
   "source": [
    "\n",
    "\n",
    "\n",
    "### Payroll Prediction (1.5 marks)\n",
    "\n",
    "- (0.5 marks) Provide your best estimate for payroll in 12 months.\n",
    "\n"
   ]
  },
  {
   "cell_type": "code",
   "execution_count": 13,
   "id": "64737d9a",
   "metadata": {},
   "outputs": [
    {
     "name": "stdout",
     "output_type": "stream",
     "text": [
      "Estimated Payroll in 36 months: $9,141,044.39\n"
     ]
    },
    {
     "name": "stderr",
     "output_type": "stream",
     "text": [
      "c:\\Users\\wecda\\AppData\\Local\\Programs\\Python\\Python312\\Lib\\site-packages\\sklearn\\utils\\validation.py:2739: UserWarning: X does not have valid feature names, but HuberRegressor was fitted with feature names\n",
      "  warnings.warn(\n"
     ]
    }
   ],
   "source": [
    "# Get the last recorded month\n",
    "last_month = df[\"Months_Since_Launch\"].max()\n",
    "\n",
    "# Create a new data point for 12 months into the future\n",
    "future_month = np.array([[last_month + 12]])\n",
    "\n",
    "# Predict payroll using the robust regressor\n",
    "future_payroll_pred = robust_model.predict(future_month)\n",
    "\n",
    "# Print the estimated payroll\n",
    "print(f\"Estimated Payroll in {last_month + 12} months: ${future_payroll_pred[0]:,.2f}\")"
   ]
  },
  {
   "cell_type": "markdown",
   "id": "3c2d30c0",
   "metadata": {},
   "source": [
    "\n",
    "\n",
    "Suggested word count: ~25 words\n",
    "\n"
   ]
  },
  {
   "cell_type": "markdown",
   "id": "38f7d635",
   "metadata": {},
   "source": [
    "\n",
    "\n",
    "The estimated payroll in 36 months is $9,141,044.39, with an uncertainty range of $8,863,806.51 to $9,418,282.27, considering the model's RMSE (277,237.88) from the test set."
   ]
  },
  {
   "cell_type": "markdown",
   "id": "c9b99262",
   "metadata": {},
   "source": [
    "\n",
    "\n",
    "- (1 mark) Provide an estimate that takes account for uncertainty,\n",
    "  keeping in mind the evaluation metric you chose. If you want to\n",
    "  calculate additional metrics, you can do that here too.\n",
    "  \n"
   ]
  },
  {
   "cell_type": "code",
   "execution_count": 14,
   "id": "971b30ce",
   "metadata": {},
   "outputs": [
    {
     "name": "stdout",
     "output_type": "stream",
     "text": [
      "Estimated Payroll in 36 months: $9,141,044.39\n",
      "Confidence Interval: $8,863,806.51 to $9,418,282.26\n"
     ]
    }
   ],
   "source": [
    "# Define the RMSE from the test set as uncertainty\n",
    "uncertainty_margin = robust_test_rmse  # 277,237.88\n",
    "\n",
    "# Compute upper and lower bounds\n",
    "lower_bound = future_payroll_pred[0] - uncertainty_margin\n",
    "upper_bound = future_payroll_pred[0] + uncertainty_margin\n",
    "\n",
    "# Print results\n",
    "print(f\"Estimated Payroll in {last_month + 12} months: ${future_payroll_pred[0]:,.2f}\")\n",
    "print(f\"Confidence Interval: ${lower_bound:,.2f} to ${upper_bound:,.2f}\")"
   ]
  },
  {
   "cell_type": "markdown",
   "id": "d5ed073d",
   "metadata": {},
   "source": [
    "\n",
    "\n",
    "Suggested word count: ~100 words\n",
    "\n"
   ]
  },
  {
   "cell_type": "markdown",
   "id": "9fcae270",
   "metadata": {},
   "source": [
    "*Your answer here. \n",
    "The estimated payroll in 36 months is 9141044.39, with a confidence range of 8863806.51 to $9,418,282.26. This range shows the possible error in prediction, based on the test RMSE (277,237.88). Since the payroll data had outliers, we used the Robust Regressor, which handles them better than OLS. The model gives a good estimate, but real payroll might be different due to unexpected business changes. The confidence range means the payroll will likely be in this range, but it’s not 100% certain—just the best guess from the model."
   ]
  },
  {
   "cell_type": "markdown",
   "id": "34b573be",
   "metadata": {},
   "source": [
    "\n",
    "\n",
    "## Revenue Visualisation and Transformation (1 mark)\n",
    "\n",
    "- (0.5 marks) Visualise revenue over time.\n",
    "\n"
   ]
  },
  {
   "cell_type": "code",
   "execution_count": 15,
   "id": "f40bf7ca",
   "metadata": {},
   "outputs": [
    {
     "data": {
      "image/png": "[encoded data removed]",
      "text/plain": [
       "<Figure size 1000x500 with 1 Axes>"
      ]
     },
     "metadata": {},
     "output_type": "display_data"
    }
   ],
   "source": [
    "import matplotlib.pyplot as plt\n",
    "import seaborn as sns\n",
    "\n",
    "# Set Seaborn style for better aesthetics\n",
    "sns.set_theme(style=\"darkgrid\")\n",
    "\n",
    "# Create the line plot\n",
    "plt.figure(figsize=(10,5))\n",
    "sns.lineplot(x=df[\"Months_Since_Launch\"], y=df[\"Revenue\"], marker='o', color='b')\n",
    "\n",
    "# Labels and title\n",
    "plt.xlabel(\"Months Since Launch\")\n",
    "plt.ylabel(\"Revenue\")\n",
    "plt.title(\"Revenue Over Time\")\n",
    "plt.show()\n"
   ]
  },
  {
   "cell_type": "markdown",
   "id": "343d7cf4",
   "metadata": {},
   "source": [
    "\n",
    "\n",
    "- (0.5 marks) Clearly explain why applying a log transformation to revenue may help linear modelling.\n",
    "\n",
    "Applying a log transformation reduces skewness, handles outliers, improves linearity, and stabilizes variance. This helps linear models better fit the data, making predictions more reliable and interpretable.\n"
   ]
  },
  {
   "cell_type": "markdown",
   "id": "7943e29d",
   "metadata": {},
   "source": [
    "\n",
    "\n",
    "## Revenue Modelling (3 marks)\n",
    "\n",
    "- (0.5 marks) Train a linear regression model (any model you choose) on the original revenue data.\n",
    "\n"
   ]
  },
  {
   "cell_type": "code",
   "execution_count": 16,
   "id": "c5f50ac3",
   "metadata": {},
   "outputs": [
    {
     "name": "stdout",
     "output_type": "stream",
     "text": [
      "Revenue Model Coefficients: [23748.34148504]\n",
      "Revenue Model Intercept: -106879.57298701294\n"
     ]
    }
   ],
   "source": [
    "from sklearn.linear_model import LinearRegression\n",
    "\n",
    "# Prepare data\n",
    "X = df[[\"Months_Since_Launch\"]]\n",
    "y = df[\"Revenue\"]\n",
    "\n",
    "# Split the data\n",
    "X_train, X_val, X_test = X.iloc[:-2], X.iloc[-2:-1], X.iloc[-1:]\n",
    "y_train, y_val, y_test = y.iloc[:-2], y.iloc[-2:-1], y.iloc[-1:]\n",
    "\n",
    "# Train the model\n",
    "revenue_model = LinearRegression()\n",
    "revenue_model.fit(X_train, y_train)\n",
    "\n",
    "# Print coefficients\n",
    "print(f\"Revenue Model Coefficients: {revenue_model.coef_}\")\n",
    "print(f\"Revenue Model Intercept: {revenue_model.intercept_}\")\n"
   ]
  },
  {
   "cell_type": "markdown",
   "id": "cf9389c0",
   "metadata": {},
   "source": [
    "\n",
    "\n",
    "- (0.5 marks) Train a linear regression model on the log-transformed revenue data.\n",
    "\n"
   ]
  },
  {
   "cell_type": "code",
   "execution_count": 17,
   "id": "921a8624",
   "metadata": {},
   "outputs": [
    {
     "name": "stdout",
     "output_type": "stream",
     "text": [
      "Log Revenue Model Coefficients: [0.18297827]\n",
      "Log Revenue Model Intercept: 9.318602763822527\n"
     ]
    }
   ],
   "source": [
    "import numpy as np\n",
    "from sklearn.linear_model import LinearRegression\n",
    "\n",
    "# Apply log transformation\n",
    "df[\"Log_Revenue\"] = np.log(df[\"Revenue\"])\n",
    "\n",
    "# Prepare data\n",
    "X = df[[\"Months_Since_Launch\"]]\n",
    "y_log = df[\"Log_Revenue\"]\n",
    "\n",
    "# Split the data\n",
    "X_train, X_val, X_test = X.iloc[:-2], X.iloc[-2:-1], X.iloc[-1:]\n",
    "y_train, y_val, y_test = y_log.iloc[:-2], y_log.iloc[-2:-1], y_log.iloc[-1:]\n",
    "\n",
    "# Train the model\n",
    "log_revenue_model = LinearRegression()\n",
    "log_revenue_model.fit(X_train, y_train)\n",
    "\n",
    "# Print coefficients\n",
    "print(f\"Log Revenue Model Coefficients: {log_revenue_model.coef_}\")\n",
    "print(f\"Log Revenue Model Intercept: {log_revenue_model.intercept_}\")\n"
   ]
  },
  {
   "cell_type": "markdown",
   "id": "c4064aa9",
   "metadata": {},
   "source": [
    "\n",
    "\n",
    "- (0.5 marks) Compare both models clearly and identify the better-performing model.\n",
    "\n"
   ]
  },
  {
   "cell_type": "code",
   "execution_count": 18,
   "id": "20d8e6f2",
   "metadata": {},
   "outputs": [
    {
     "name": "stdout",
     "output_type": "stream",
     "text": [
      "Original Revenue Model:\n",
      "MAE: 439318.70, RMSE: 439318.70\n",
      "\n",
      "Log-Transformed Revenue Model:\n",
      "MAE: 749442.56, RMSE: 749442.56\n",
      "\n",
      "The Original Revenue Model performs better.\n"
     ]
    }
   ],
   "source": [
    "from sklearn.metrics import mean_absolute_error, mean_squared_error\n",
    "import numpy as np\n",
    "\n",
    "# Predict on validation set\n",
    "y_val_pred_original = revenue_model.predict(X_val)\n",
    "y_val_pred_log = log_revenue_model.predict(X_val)\n",
    "\n",
    "# Convert log predictions back to original scale (exponentiate)\n",
    "y_val_pred_log_original_scale = np.exp(y_val_pred_log)\n",
    "\n",
    "# Compute MAE and RMSE for both models\n",
    "mae_original = mean_absolute_error(y_val, y_val_pred_original)\n",
    "rmse_original = np.sqrt(mean_squared_error(y_val, y_val_pred_original))\n",
    "\n",
    "mae_log = mean_absolute_error(y_val, y_val_pred_log_original_scale)\n",
    "rmse_log = np.sqrt(mean_squared_error(y_val, y_val_pred_log_original_scale))\n",
    "\n",
    "# Print results\n",
    "print(\"Original Revenue Model:\")\n",
    "print(f\"MAE: {mae_original:.2f}, RMSE: {rmse_original:.2f}\\n\")\n",
    "\n",
    "print(\"Log-Transformed Revenue Model:\")\n",
    "print(f\"MAE: {mae_log:.2f}, RMSE: {rmse_log:.2f}\\n\")\n",
    "\n",
    "# Identify the better model\n",
    "if mae_log < mae_original and rmse_log < rmse_original:\n",
    "    print(\"The Log-Transformed Revenue Model performs better.\")\n",
    "else:\n",
    "    print(\"The Original Revenue Model performs better.\")\n"
   ]
  },
  {
   "cell_type": "markdown",
   "id": "c12b4a41",
   "metadata": {},
   "source": [
    "\n",
    "\n",
    "Suggested word count: ~25 words\n",
    "\n"
   ]
  },
  {
   "cell_type": "markdown",
   "id": "56c2627d",
   "metadata": {},
   "source": [
    "*Your answer here. \n",
    "\n",
    "The original revenue model performed better with lower MAE and RMSE. The log-transformed model had higher errors, likely due to transformation limitations or data distribution issues."
   ]
  },
  {
   "cell_type": "markdown",
   "id": "c20c4960",
   "metadata": {},
   "source": [
    "\n",
    "\n",
    "- (0.5 marks) Predict revenue 12 months ahead, reversing any\n",
    "  transformations applied. Remember that the predictions of the\n",
    "  log-transformed revenue data need to be turned back into the\n",
    "  original units (dollars).\n",
    "  \n"
   ]
  },
  {
   "cell_type": "code",
   "execution_count": 19,
   "id": "7745f789",
   "metadata": {},
   "outputs": [
    {
     "name": "stdout",
     "output_type": "stream",
     "text": [
      "Predicted Revenue (Original Model): $748,060.72\n",
      "Predicted Revenue (Log-Transformed Model): $8,087,422.58\n"
     ]
    },
    {
     "name": "stderr",
     "output_type": "stream",
     "text": [
      "c:\\Users\\wecda\\AppData\\Local\\Programs\\Python\\Python312\\Lib\\site-packages\\sklearn\\utils\\validation.py:2739: UserWarning: X does not have valid feature names, but LinearRegression was fitted with feature names\n",
      "  warnings.warn(\n",
      "c:\\Users\\wecda\\AppData\\Local\\Programs\\Python\\Python312\\Lib\\site-packages\\sklearn\\utils\\validation.py:2739: UserWarning: X does not have valid feature names, but LinearRegression was fitted with feature names\n",
      "  warnings.warn(\n"
     ]
    }
   ],
   "source": [
    "# Define future month\n",
    "future_month = df[\"Months_Since_Launch\"].max() + 12\n",
    "future_X = np.array([[future_month]])\n",
    "\n",
    "# Predict using the original revenue model\n",
    "future_revenue_original = revenue_model.predict(future_X)[0]\n",
    "\n",
    "# Predict using the log-transformed revenue model and revert transformation\n",
    "future_revenue_log = np.exp(log_revenue_model.predict(future_X)[0])\n",
    "\n",
    "# Print predictions\n",
    "print(f\"Predicted Revenue (Original Model): ${future_revenue_original:,.2f}\")\n",
    "print(f\"Predicted Revenue (Log-Transformed Model): ${future_revenue_log:,.2f}\")\n"
   ]
  },
  {
   "cell_type": "markdown",
   "id": "9508c2bc",
   "metadata": {},
   "source": [
    "\n",
    "\n",
    "Suggested word count: ~25 words\n",
    "\n"
   ]
  },
  {
   "cell_type": "markdown",
   "id": "e98fed0d",
   "metadata": {},
   "source": [
    "Predicted Revenue (Original Model): $748,060.72\n",
    "Predicted Revenue (Log-Transformed Model): $8,087,422.58"
   ]
  },
  {
   "cell_type": "markdown",
   "id": "da38a54a",
   "metadata": {},
   "source": [
    "\n",
    "\n",
    "- (1 mark) Predict revenue 20 years ahead. Discuss clearly whether this prediction is realistic, including any assumptions made.\n",
    "\n"
   ]
  },
  {
   "cell_type": "code",
   "execution_count": 20,
   "id": "fb2f02af",
   "metadata": {},
   "outputs": [
    {
     "name": "stdout",
     "output_type": "stream",
     "text": [
      "Predicted Revenue in 20 Years (Original Model): $6,162,682.58\n",
      "Predicted Revenue in 20 Years (Log-Transformed Model): $10,620,913,111,565,407,157,747,712.00\n"
     ]
    },
    {
     "name": "stderr",
     "output_type": "stream",
     "text": [
      "c:\\Users\\wecda\\AppData\\Local\\Programs\\Python\\Python312\\Lib\\site-packages\\sklearn\\utils\\validation.py:2739: UserWarning: X does not have valid feature names, but LinearRegression was fitted with feature names\n",
      "  warnings.warn(\n",
      "c:\\Users\\wecda\\AppData\\Local\\Programs\\Python\\Python312\\Lib\\site-packages\\sklearn\\utils\\validation.py:2739: UserWarning: X does not have valid feature names, but LinearRegression was fitted with feature names\n",
      "  warnings.warn(\n"
     ]
    }
   ],
   "source": [
    "# Define future month (20 years = 240 months)\n",
    "future_month_20_years = df[\"Months_Since_Launch\"].max() + 240\n",
    "future_X_20_years = np.array([[future_month_20_years]])\n",
    "\n",
    "# Predict using the original revenue model\n",
    "future_revenue_original_20y = revenue_model.predict(future_X_20_years)[0]\n",
    "\n",
    "# Predict using the log-transformed revenue model and revert transformation\n",
    "future_revenue_log_20y = np.exp(log_revenue_model.predict(future_X_20_years)[0])\n",
    "\n",
    "# Print predictions\n",
    "print(f\"Predicted Revenue in 20 Years (Original Model): ${future_revenue_original_20y:,.2f}\")\n",
    "print(f\"Predicted Revenue in 20 Years (Log-Transformed Model): ${future_revenue_log_20y:,.2f}\")\n"
   ]
  },
  {
   "cell_type": "markdown",
   "id": "ca3191a3",
   "metadata": {},
   "source": [
    "\n",
    "\n",
    "Suggested word count: ~150 words\n",
    "\n"
   ]
  },
  {
   "cell_type": "markdown",
   "id": "ffd5b961",
   "metadata": {},
   "source": [
    "Predicting revenue 20 years into the future is extremely difficult, and the results we got highlight why. The original model estimated around $6.16 million, which seems somewhat reasonable. However, the log-transformed model predicted a completely unrealistic number—so large it doesn’t even make sense in real-world terms. This happens because the log model assumes continuous exponential growth, which is not how businesses operate.\n",
    "\n",
    "In reality, companies face competition, market saturation, economic downturns, and other unpredictable factors that impact revenue growth. No company, no matter how successful, keeps growing at the same rate forever.\n",
    "\n",
    "Both models also assume that past trends will continue, which is rarely true over such a long period. Short-term predictions (1–3 years) are much more reliable, but for long-term forecasting, we need advanced models like ARIMA or Prophet, which factor in trends and uncertainties. So, while the original model seems reasonable, neither prediction is truly reliable."
   ]
  },
  {
   "cell_type": "markdown",
   "id": "87408c64",
   "metadata": {},
   "source": [
    "\n",
    "\n",
    "\n",
    "## Logistic Regression: Predicting Negative Media Coverage (3 marks)\n",
    "\n",
    "You will see a column called \"Media Coverage\" which takes values of\n",
    "\"Positive\" or \"Negative\". This is *categorical* data, meaning it\n",
    "consists of distinct, finite values.\n",
    "\n",
    "If a journalist wrote something nice about the company you will see a\n",
    "\"Positive\" in this column. If they wrote something bad about the\n",
    "company (or didn't write anything at all), you will see a \"Negative\"\n",
    "in this column.\n",
    "\n",
    "- (0.5 marks) Which features will you use to predict \"Media Coverage\"?\n",
    "\n",
    "Suggested word count: ~50 words\n",
    "\n"
   ]
  },
  {
   "cell_type": "markdown",
   "id": "775457ad",
   "metadata": {},
   "source": [
    "To predict \"Media Coverage\", we will use key factors influencing public perception. Payroll and revenue reflect financial success, which often attracts positive media. Scandals can damage reputation, leading to negative coverage. Months Since Launch matters, as older companies tend to have more established reputations, impacting media attention."
   ]
  },
  {
   "cell_type": "markdown",
   "id": "4ba57c71",
   "metadata": {},
   "source": [
    "\n",
    "\n",
    "- (0.1 marks) We don't need validation data (we aren't comparing any models), but we do need test\n",
    "  data so that we can see if the model is worthwhile. Randomly select some data to act as test\n",
    "  data.\n",
    "  \n"
   ]
  },
  {
   "cell_type": "code",
   "execution_count": 21,
   "id": "6864e0a7",
   "metadata": {},
   "outputs": [
    {
     "name": "stdout",
     "output_type": "stream",
     "text": [
      "Training set size: 19\n",
      "Test set size: 5\n"
     ]
    }
   ],
   "source": [
    "from sklearn.model_selection import train_test_split\n",
    "\n",
    "# Define features (X) and target (y)\n",
    "X = df[['Payroll', 'Revenue', 'Scandals', 'Months_Since_Launch']]\n",
    "y = df['Media Coverage'].map({'Positive': 1, 'Negative': 0})  # Convert to binary (1 = Positive, 0 = Negative)\n",
    "\n",
    "# Split data into training (80%) and test (20%) sets\n",
    "X_train, X_test, y_train, y_test = train_test_split(X, y, test_size=0.2, random_state=42, stratify=y)\n",
    "\n",
    "# Print dataset sizes\n",
    "print(f\"Training set size: {X_train.shape[0]}\")\n",
    "print(f\"Test set size: {X_test.shape[0]}\")\n"
   ]
  },
  {
   "cell_type": "markdown",
   "id": "e3abbdf3",
   "metadata": {},
   "source": [
    "\n",
    "  \n",
    "- (0.1 marks) Train a logistic regression model on the training (non-test) data\n",
    "\n"
   ]
  },
  {
   "cell_type": "code",
   "execution_count": 22,
   "id": "70e23258",
   "metadata": {},
   "outputs": [
    {
     "name": "stdout",
     "output_type": "stream",
     "text": [
      "Logistic Regression Coefficients: [[-5.65018481e-05  2.06008304e-03  0.00000000e+00  9.24200803e-08]]\n",
      "Logistic Regression Intercept: [-2.81746881e-09]\n"
     ]
    }
   ],
   "source": [
    "from sklearn.linear_model import LogisticRegression\n",
    "\n",
    "# Train the logistic regression model\n",
    "log_reg = LogisticRegression()\n",
    "log_reg.fit(X_train, y_train)\n",
    "\n",
    "# Print model coefficients\n",
    "print(\"Logistic Regression Coefficients:\", log_reg.coef_)\n",
    "print(\"Logistic Regression Intercept:\", log_reg.intercept_)\n"
   ]
  },
  {
   "cell_type": "markdown",
   "id": "c3d10561",
   "metadata": {},
   "source": [
    "\n",
    "\n",
    "- (0.1 marks) Choose a metric and evaluate the success of your logistic regression\n",
    "\n"
   ]
  },
  {
   "cell_type": "code",
   "execution_count": 23,
   "id": "844c11ae",
   "metadata": {},
   "outputs": [
    {
     "name": "stdout",
     "output_type": "stream",
     "text": [
      "Model Accuracy: 1.00\n",
      "Classification Report:\n",
      "               precision    recall  f1-score   support\n",
      "\n",
      "           0       1.00      1.00      1.00         3\n",
      "           1       1.00      1.00      1.00         2\n",
      "\n",
      "    accuracy                           1.00         5\n",
      "   macro avg       1.00      1.00      1.00         5\n",
      "weighted avg       1.00      1.00      1.00         5\n",
      "\n"
     ]
    }
   ],
   "source": [
    "from sklearn.metrics import accuracy_score, classification_report\n",
    "\n",
    "# Predict on test data\n",
    "y_pred = log_reg.predict(X_test)\n",
    "\n",
    "# Calculate accuracy\n",
    "accuracy = accuracy_score(y_test, y_pred)\n",
    "print(f\"Model Accuracy: {accuracy:.2f}\")\n",
    "\n",
    "# Print classification report\n",
    "print(\"Classification Report:\\n\", classification_report(y_test, y_pred))\n"
   ]
  },
  {
   "cell_type": "markdown",
   "id": "16c2e1e1",
   "metadata": {},
   "source": [
    "\n",
    "\n",
    "- (0.1 marks) Examine the coefficients of the logistic regression model that you created.\n",
    "\n"
   ]
  },
  {
   "cell_type": "code",
   "execution_count": 24,
   "id": "1c94c42c",
   "metadata": {},
   "outputs": [
    {
     "name": "stdout",
     "output_type": "stream",
     "text": [
      "Logistic Regression Coefficients: [[-5.65018481e-05  2.06008304e-03  0.00000000e+00  9.24200803e-08]]\n",
      "Logistic Regression Intercept: [-2.81746881e-09]\n"
     ]
    }
   ],
   "source": [
    "# Print the logistic regression coefficients\n",
    "print(\"Logistic Regression Coefficients:\", log_reg.coef_)\n",
    "print(\"Logistic Regression Intercept:\", log_reg.intercept_)"
   ]
  },
  {
   "cell_type": "markdown",
   "id": "8da42f45",
   "metadata": {},
   "source": [
    "\n",
    "\n",
    "- (1 mark) Clearly discuss the logistic regression coefficients and\n",
    "  identify the most influential features contributing to negative\n",
    "  media coverage.\n",
    "  \n",
    "  Suggested word count: ~150 words\n",
    "\n"
   ]
  },
  {
   "cell_type": "markdown",
   "id": "1b968086",
   "metadata": {},
   "source": [
    "\n",
    "The logistic regression model gives us insights into how different features influence media coverage. The payroll coefficient (-5.65e-05) is negative, meaning higher payroll slightly reduces the chances of negative media coverage. This makes sense because companies with higher payrolls may have better stability and positive recognition.\n",
    "\n",
    "The revenue coefficient (2.06e-03) is positive, indicating that as revenue increases, the likelihood of negative media slightly increases. This could be because bigger companies are under more public scrutiny. The scandal coefficient is 0, meaning scandals were not included in the model or had no measurable impact, which is surprising.\n",
    "\n",
    "The months since launch (9.24e-08) has a very small positive effect, meaning older companies might be slightly more prone to negative coverage.\n",
    "\n",
    "Overall, revenue seems to have the biggest impact, suggesting financial success doesn’t always guarantee positive media attention. However, the small coefficient values mean the influence of each feature is minimal."
   ]
  },
  {
   "cell_type": "markdown",
   "id": "37303483",
   "metadata": {},
   "source": [
    "\n",
    "\n",
    "- (1 mark) Use the logistic regression model to predict the probability of negative media\n",
    "  coverage 12 months from now. Assume that there are no scandals in that month.\n",
    "  \n"
   ]
  },
  {
   "cell_type": "code",
   "execution_count": 25,
   "id": "69d19bce",
   "metadata": {},
   "outputs": [
    {
     "name": "stdout",
     "output_type": "stream",
     "text": [
      "Predicted Probability of Negative Media Coverage in 12 Months: 0.0000\n"
     ]
    },
    {
     "name": "stderr",
     "output_type": "stream",
     "text": [
      "c:\\Users\\wecda\\AppData\\Local\\Programs\\Python\\Python312\\Lib\\site-packages\\sklearn\\utils\\validation.py:2739: UserWarning: X does not have valid feature names, but LogisticRegression was fitted with feature names\n",
      "  warnings.warn(\n"
     ]
    }
   ],
   "source": [
    "import numpy as np\n",
    "\n",
    "# Define future values (replace these with actual predictions from your regression models)\n",
    "future_payroll = 9000000  # Example: Payroll prediction for 12 months later\n",
    "future_revenue = 15000000  # Example: Revenue prediction for 12 months later\n",
    "months_since_launch = df[\"Months_Since_Launch\"].max()  # Get the latest recorded month\n",
    "\n",
    "# Prepare input features (Payroll, Revenue, Scandals=0, Months Since Launch)\n",
    "future_data = np.array([[future_payroll, future_revenue, 0, months_since_launch + 12]])\n",
    "\n",
    "# Predict probability of negative media coverage\n",
    "prob_negative = log_reg.predict_proba(future_data)[0][0]\n",
    "\n",
    "print(f\"Predicted Probability of Negative Media Coverage in 12 Months: {prob_negative:.4f}\")\n"
   ]
  },
  {
   "cell_type": "markdown",
   "id": "83e0462c",
   "metadata": {},
   "source": [
    "\n",
    "\n",
    "Suggested word count: ~25 words\n",
    "\n"
   ]
  },
  {
   "cell_type": "markdown",
   "id": "0aeed4b3",
   "metadata": {},
   "source": [
    "Your model predicts a 0.0000 probability of negative media coverage in 12 months, meaning it's almost certain that the media coverage will be positive."
   ]
  },
  {
   "cell_type": "markdown",
   "id": "bf7749b0",
   "metadata": {},
   "source": [
    "\n",
    "\n",
    "- (0.1 marks) Restart the kernel and rerun the notebook to verify that\n",
    "  it is still working start-to-finish. Enter the \"RESTARTED AND\n",
    "  CHECKED\" in the next cell when you have done this.\n",
    "  \n",
    "  Suggested word count: 3 words\n",
    "  \n"
   ]
  },
  {
   "cell_type": "markdown",
   "id": "801671f3",
   "metadata": {},
   "source": [
    "RESTARTED AND CHECKED"
   ]
  },
  {
   "cell_type": "markdown",
   "id": "78384750",
   "metadata": {},
   "source": [
    "\n",
    "\n",
    "## Written Summary of Findings (1.5 marks)\n",
    "\n",
    "- Provide a coherent one-paragraph summary clearly highlighting key\n",
    "  results and your confidence in these predictions. The investment\n",
    "  fund wants to know what you think this company will be like in a\n",
    "  year's time (revenue, payroll, media coverage).\n",
    "  \n",
    "Note that we aren't marking whether you have a right or wrong answer here, we are\n",
    "going to mark whether what you say shows an understanding of what your data \n",
    "analysis and modelling produced.\n",
    "\n",
    "If you want to add any visualisations here, you can.\n",
    "\n"
   ]
  },
  {
   "cell_type": "code",
   "execution_count": 26,
   "id": "ac7fbea0",
   "metadata": {},
   "outputs": [
    {
     "data": {
      "image/png": "[encoded data removed]",
      "text/plain": [
       "<Figure size 800x500 with 1 Axes>"
      ]
     },
     "metadata": {},
     "output_type": "display_data"
    },
    {
     "name": "stderr",
     "output_type": "stream",
     "text": [
      "C:\\Users\\wecda\\AppData\\Local\\Temp\\ipykernel_11924\\4034865171.py:27: FutureWarning: \n",
      "\n",
      "Passing `palette` without assigning `hue` is deprecated and will be removed in v0.14.0. Assign the `x` variable to `hue` and set `legend=False` for the same effect.\n",
      "\n",
      "  sns.barplot(x=\"Model\", y=\"Revenue Prediction\", data=df_revenue, palette=[\"green\", \"red\"])\n"
     ]
    },
    {
     "data": {
      "image/png": "[encoded data removed]",
      "text/plain": [
       "<Figure size 600x500 with 1 Axes>"
      ]
     },
     "metadata": {},
     "output_type": "display_data"
    }
   ],
   "source": [
    "import seaborn as sns\n",
    "import matplotlib.pyplot as plt\n",
    "import numpy as np\n",
    "import pandas as pd\n",
    "\n",
    "# Set Seaborn style\n",
    "sns.set_theme(style=\"darkgrid\")\n",
    "\n",
    "# Payroll Growth Over Time\n",
    "months = np.arange(1, 37)\n",
    "payroll = 178400.38 * months + 3466671.76  # Using OLS model coefficients\n",
    "\n",
    "plt.figure(figsize=(8, 5))\n",
    "sns.lineplot(x=months, y=payroll, marker=\"o\", color=\"b\", linewidth=2.5)\n",
    "plt.xlabel(\"Months Since Launch\", fontsize=12)\n",
    "plt.ylabel(\"Payroll ($)\", fontsize=12)\n",
    "plt.title(\"Payroll Growth Over Time\", fontsize=14)\n",
    "plt.show()\n",
    "\n",
    "# Revenue Model Comparison\n",
    "models = [\"Original Model\", \"Log-Transformed Model\"]\n",
    "revenue_predictions = [6_162_682.58, 10_620_913_111_565_407_157_747_712.00]\n",
    "\n",
    "df_revenue = pd.DataFrame({\"Model\": models, \"Revenue Prediction\": revenue_predictions})\n",
    "\n",
    "plt.figure(figsize=(6, 5))\n",
    "sns.barplot(x=\"Model\", y=\"Revenue Prediction\", data=df_revenue, palette=[\"green\", \"red\"])\n",
    "plt.yscale(\"log\")  # Log scale to handle extreme difference\n",
    "plt.ylabel(\"Predicted Revenue ($)\", fontsize=12)\n",
    "plt.title(\"Revenue Prediction Comparison\", fontsize=14)\n",
    "plt.show()\n"
   ]
  },
  {
   "cell_type": "markdown",
   "id": "3884b117",
   "metadata": {},
   "source": [
    "\n",
    "\n",
    "Suggested word count: ~250 words\n",
    "\n"
   ]
  },
  {
   "cell_type": "markdown",
   "id": "24aa9fc3",
   "metadata": {},
   "source": [
    "In this data analysis we found over the next year our model predicts steady and gradual payroll growth, reaching approximately $9.14 million in one year or 12 months. The revenue projection shows the fluctuation because it varies significantly between different models to model, with the original model predicting around $6 million, whereas the log transformed model suggests unrealistic exponential growth which should be ignored. Given this, the original revenue model is more reliable. Media coverage is highly likely to remain positive, as the logistic regression model predicts 0% probability of negative coverage, mainly due to strong financial performance and no reported scandals. However, these predictions assume stable external conditions and consistent company growth. While payroll and revenue estimates are data-driven, external factors like market trends and competition could influence actual results. Overall, this company appears to be in a strong position for investment, but further monitoring of external risks is recommended."
   ]
  },
  {
   "cell_type": "markdown",
   "id": "334cf26f",
   "metadata": {},
   "source": [
    "\n",
    "\n",
    "\n",
    "## 2-Minute Video Presentation (1.5 marks)\n",
    "\n",
    "Some of your (non-technical) colleagues in this venture capital firm\n",
    "are in other timezones, and don't know how to program, so you need to\n",
    "create a video presentation for them describing your insights.\n",
    "\n",
    "It is common for data scientists to record screencasts (a presentation\n",
    "with a voiceover); not everyone records video of themselves\n",
    "talking. Some people use the QuickTime application in OSX; some record\n",
    "a Zoom meeting; people find technology and programs that they are\n",
    "comfortable using.\n",
    "\n",
    "Some people present presentations directly from their Jupyter notebook;\n",
    "others create custom PowerPoint presentations. \n",
    "\n",
    "So your choices in this section are quite open. \n",
    "\n",
    "- (0.5 marks) Submit a video, and ensure the video is in low resolution (SD, 480p)\n",
    "  so that it is small enough to upload. Keep the time to around 2\n",
    "  minutes.\n",
    "\n",
    "- (0.6 marks) State what you believe will happen to this startup over the next 12 months:\n",
    "  revenue, payroll, positive/negative media coverage. (0.6 marks)\n",
    "  \n",
    "- (0.4 marks) Briefly discuss any limitations or assumptions you made\n",
    "  in your analysis and how they might affect your predictions. Suggest\n",
    "  at least one practical step or recommendation to address these\n",
    "  concerns.\n",
    "\n",
    "\n",
    "\n",
    "\n",
    "\n",
    "\n",
    "## Late Assessment Submission Penalty \n",
    "\n",
    "Unless a Special Consideration request has been submitted and\n",
    "approved, a 5% penalty (of the total possible mark of the task) will\n",
    "be applied for each day a written report or presentation assessment is\n",
    "not submitted, up until the 7th day (including weekends). After the\n",
    "7th day, a grade of ‘0’ will be awarded even if the assessment is\n",
    "submitted. The submission time for all uploaded assessments is 11:55\n",
    "pm. A 1-hour grace period will be provided to students who experience\n",
    "a technical concern. For any late submission of time-sensitive tasks,\n",
    "such as scheduled tests/exams, performance assessments/presentations,\n",
    "and/or scheduled practical assessments/labs, please apply for\n",
    "[Special Consideration](https://students.mq.edu.au/study/assessment-exams/special-consideration).\n",
    "\n",
    "For example, as this assignment is worth 15% of the entire unit, a\n",
    "submission late by up to 24 hours will incur a penalty of 0.75 marks\n",
    "(5% of 15 marks). A submission that is late by between 24 and 48 hours\n",
    "will incur a penalty of 1.5 marks (10% of 15 marks), and so on.\n",
    "\n",
    "## Sample Gen-AI prompts\n",
    "\n",
    "Programming prompts:\n",
    "\n",
    "```\n",
    "Don't give me the answer directly, but help guide me to answering\n",
    "this question. I will be programming in Python using the pandas and scikit-learn\n",
    "libraries. If it appears that I don't know something that I would need to \n",
    "answer a question, suggest functions or classes that I should learn about. Always\n",
    "add little bits of information that will guide my journey.\n",
    "\n",
    "Here is my code so far, and the question I am trying to answer\n",
    "(....)\n",
    "```\n",
    "\n",
    "If you are concerned about your grammar or language, try a prompt like this:\n",
    "\n",
    "```\n",
    "Find any grammatical mistakes, typos or other language errors in this\n",
    "text. Don't make the corrections, just list for me what was wrong and\n",
    "explain the problem.\n",
    "```\n",
    "\n"
   ]
  }
 ],
 "metadata": {
  "kernelspec": {
   "display_name": "Python 3",
   "language": "python",
   "name": "python3"
  },
  "language_info": {
   "codemirror_mode": {
    "name": "ipython",
    "version": 3
   },
   "file_extension": ".py",
   "mimetype": "text/x-python",
   "name": "python",
   "nbconvert_exporter": "python",
   "pygments_lexer": "ipython3",
   "version": "3.12.2"
  }
 },
 "nbformat": 4,
 "nbformat_minor": 5
}
